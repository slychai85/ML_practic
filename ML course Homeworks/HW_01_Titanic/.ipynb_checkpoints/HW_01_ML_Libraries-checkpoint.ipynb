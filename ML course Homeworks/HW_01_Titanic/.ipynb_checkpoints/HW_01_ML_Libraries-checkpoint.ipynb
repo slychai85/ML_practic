{
 "cells": [
  {
   "cell_type": "markdown",
   "metadata": {
    "colab_type": "text",
    "id": "v5Fj-ahf25os"
   },
   "source": [
    "# Homework #01: Machine Learning Libraries"
   ]
  },
  {
   "cell_type": "markdown",
   "metadata": {
    "colab_type": "text",
    "id": "qZX1Urv425ov"
   },
   "source": [
    "### Часть 1. Разогрев (30%)"
   ]
  },
  {
   "cell_type": "code",
   "execution_count": 1,
   "metadata": {
    "colab": {
     "autoexec": {
      "startup": false,
      "wait_interval": 0
     }
    },
    "colab_type": "code",
    "id": "ABwrGwvF25ow"
   },
   "outputs": [],
   "source": [
    "import numpy as np\n",
    "import pandas as pd"
   ]
  },
  {
   "cell_type": "markdown",
   "metadata": {},
   "source": [
    "#### Создайте случайную матрицу A размерами 10 на 10 из целых чисел от 0 до 100"
   ]
  },
  {
   "cell_type": "code",
   "execution_count": 10,
   "metadata": {
    "colab": {
     "autoexec": {
      "startup": false,
      "wait_interval": 0
     }
    },
    "colab_type": "code",
    "id": "GYgIRlqf25o0"
   },
   "outputs": [],
   "source": [
    "# rand                 Uniformly distributed values.\n",
    "# randn                Normally distributed values.\n",
    "# ranf                 Uniformly distributed floating point numbers.\n",
    "# randint              Uniformly distributed integers in a given range.\n",
    "# rand                 Равномерно распределенные значения.\n",
    "# randn Нормально распределенные значения.\n",
    "# ranf Равномерно распределенные числа с плавающей точкой.\n",
    "# randint Равномерно распределенные целые числа в заданном диапазоне.\n",
    "A = np.random.randint(0, 100, (10,10))"
   ]
  },
  {
   "cell_type": "markdown",
   "metadata": {},
   "source": [
    "#### Посчитайте средние значения в матрице по столбцам"
   ]
  },
  {
   "cell_type": "code",
   "execution_count": 17,
   "metadata": {
    "colab": {
     "autoexec": {
      "startup": false,
      "wait_interval": 0
     }
    },
    "colab_type": "code",
    "id": "7aB62Lzk25o2"
   },
   "outputs": [],
   "source": [
    "# axis --> обозначает ось по котор\n",
    "aver = np.mean(A, axis=0)"
   ]
  },
  {
   "cell_type": "code",
   "execution_count": 18,
   "metadata": {
    "colab": {
     "autoexec": {
      "startup": false,
      "wait_interval": 0
     }
    },
    "colab_type": "code",
    "id": "MTLnNqV425o5"
   },
   "outputs": [],
   "source": [
    "# Транспонируйте матрицу A\n",
    "_A = A.transpose()\n",
    "# or\n",
    "_A = A.T"
   ]
  },
  {
   "cell_type": "markdown",
   "metadata": {},
   "source": [
    "#### Перемножьте поэлементно матрицу A и транспонированную матрицу A "
   ]
  },
  {
   "cell_type": "code",
   "execution_count": 19,
   "metadata": {
    "colab": {
     "autoexec": {
      "startup": false,
      "wait_interval": 0
     }
    },
    "colab_type": "code",
    "id": "WgDUhrYV25o8"
   },
   "outputs": [],
   "source": [
    "C = A * _A"
   ]
  },
  {
   "cell_type": "markdown",
   "metadata": {},
   "source": [
    "#### Посчитайте dot product (результат матричного умножения) матрицы A на саму себя и запишите в матрицу B. https://en.wikipedia.org/wiki/Dot_product"
   ]
  },
  {
   "cell_type": "code",
   "execution_count": 21,
   "metadata": {
    "colab": {
     "autoexec": {
      "startup": false,
      "wait_interval": 0
     }
    },
    "colab_type": "code",
    "id": "xwgLyFDD25o9"
   },
   "outputs": [],
   "source": [
    "B = A.dot(A)\n",
    "# or\n",
    "B = np.dot(A, A)"
   ]
  },
  {
   "cell_type": "markdown",
   "metadata": {},
   "source": [
    "#### Проверим вас. Если все хорошо, данная ячейка отработает без ошибки"
   ]
  },
  {
   "cell_type": "code",
   "execution_count": 22,
   "metadata": {
    "colab": {
     "autoexec": {
      "startup": false,
      "wait_interval": 0
     }
    },
    "colab_type": "code",
    "id": "mZg7sMGn25pA"
   },
   "outputs": [],
   "source": [
    "assert(np.array_equal(B, np.linalg.matrix_power(A, 2)))"
   ]
  },
  {
   "cell_type": "markdown",
   "metadata": {},
   "source": [
    "#### Отлично! Сгенерируйте вектор v из 20 идущих подряд целых чисел начиная с 1"
   ]
  },
  {
   "cell_type": "code",
   "execution_count": 23,
   "metadata": {
    "colab": {
     "autoexec": {
      "startup": false,
      "wait_interval": 0
     }
    },
    "colab_type": "code",
    "id": "e6_Iwh3a25pC"
   },
   "outputs": [
    {
     "name": "stdout",
     "output_type": "stream",
     "text": [
      "[ 1  2  3  4  5  6  7  8  9 10 11 12 13 14 15 16 17 18 19 20]\n"
     ]
    }
   ],
   "source": [
    "v = np.arange(1,21)\n",
    "\n",
    "print(v)"
   ]
  },
  {
   "cell_type": "markdown",
   "metadata": {},
   "source": [
    "#### Перемешайте его случайным образом. Warning! Прочитайте документацию этой функции"
   ]
  },
  {
   "cell_type": "code",
   "execution_count": 28,
   "metadata": {
    "colab": {
     "autoexec": {
      "startup": false,
      "wait_interval": 0
     }
    },
    "colab_type": "code",
    "id": "CLucpv6Q25pF"
   },
   "outputs": [],
   "source": [
    "# Измените последовательность на месте, перетасовав ее содержимое. \n",
    "# Эта функция перемещает массив только по первой оси многомерного массива. \n",
    "# Порядок подмассивов изменяется, но их содержимое остается неизменным.\n",
    "np.random.shuffle(v)"
   ]
  },
  {
   "cell_type": "code",
   "execution_count": 29,
   "metadata": {
    "colab": {
     "autoexec": {
      "startup": false,
      "wait_interval": 0
     }
    },
    "colab_type": "code",
    "id": "llMbI1G025pI"
   },
   "outputs": [],
   "source": [
    "# Проверим Вас\n",
    "assert(v is not None)"
   ]
  },
  {
   "cell_type": "markdown",
   "metadata": {},
   "source": [
    "#### Выведите максимум вектора v"
   ]
  },
  {
   "cell_type": "code",
   "execution_count": 30,
   "metadata": {
    "colab": {
     "autoexec": {
      "startup": false,
      "wait_interval": 0
     }
    },
    "colab_type": "code",
    "id": "9tipO_rk25pL"
   },
   "outputs": [],
   "source": [
    "v.max()\n",
    "# or\n",
    "_max_V = np.max(v)"
   ]
  },
  {
   "cell_type": "markdown",
   "metadata": {},
   "source": [
    "#### Сохраните индекс максимального элемента вектора v в переменную max_ind"
   ]
  },
  {
   "cell_type": "code",
   "execution_count": 46,
   "metadata": {
    "colab": {
     "autoexec": {
      "startup": false,
      "wait_interval": 0
     }
    },
    "colab_type": "code",
    "id": "gxPVRFrP25pN"
   },
   "outputs": [],
   "source": [
    "# Сохраняет как массив (array([12]),)\n",
    "max_ind = np.where(v == v.max())\n",
    "# or\n",
    "# max_ind = v.argmax() \n",
    "# or\n",
    "# max_ind = v.argmax(axis=0) "
   ]
  },
  {
   "cell_type": "code",
   "execution_count": 47,
   "metadata": {
    "colab": {
     "autoexec": {
      "startup": false,
      "wait_interval": 0
     }
    },
    "colab_type": "code",
    "id": "77vy5xMm25pQ"
   },
   "outputs": [],
   "source": [
    "# Проверим Вас\n",
    "assert(v[max_ind] == v.max())"
   ]
  },
  {
   "cell_type": "markdown",
   "metadata": {},
   "source": [
    "#### Отсортируйте v по убыванию "
   ]
  },
  {
   "cell_type": "code",
   "execution_count": 48,
   "metadata": {
    "colab": {
     "autoexec": {
      "startup": false,
      "wait_interval": 0
     }
    },
    "colab_type": "code",
    "id": "-VM-8j4h25pT"
   },
   "outputs": [],
   "source": [
    "# Создает новый объект, поэтому приходится сохранять в новой переменной\n",
    "v_sorted = np.sort(v)[::-1]\n",
    "# Не создает новый объект, а сортирует объект на месте\n",
    "v[::-1].sort()"
   ]
  },
  {
   "cell_type": "code",
   "execution_count": 49,
   "metadata": {
    "colab": {
     "autoexec": {
      "startup": false,
      "wait_interval": 0
     }
    },
    "colab_type": "code",
    "id": "Aho5W9wv25pX"
   },
   "outputs": [],
   "source": [
    "assert(np.array_equal(v_sorted, np.arange(20, 0, -1)))"
   ]
  },
  {
   "cell_type": "markdown",
   "metadata": {
    "colab_type": "text",
    "id": "DuaWbhsc25pa"
   },
   "source": [
    "Отлично. Не забывайте про функции np.percentile, np.mean, np.median etc. \n",
    "\n",
    "И не забывайте читать документацию."
   ]
  },
  {
   "cell_type": "markdown",
   "metadata": {},
   "source": [
    "### Часть 2. Визуализация и оптимизация (40%)"
   ]
  },
  {
   "cell_type": "markdown",
   "metadata": {},
   "source": [
    "#### Нарисуйте график функции f(x) = 3 * x^6 - 5 * x^4 + 2 * x - 1. Используйте TeX-нотацию для того, чтобы подписать график функции"
   ]
  },
  {
   "cell_type": "code",
   "execution_count": 52,
   "metadata": {},
   "outputs": [
    {
     "data": {
      "image/png": "[encoded data removed]",
      "text/plain": [
       "<Figure size 432x288 with 1 Axes>"
      ]
     },
     "metadata": {
      "needs_background": "light"
     },
     "output_type": "display_data"
    }
   ],
   "source": [
    "# Импортируем pyplot из библиотеки matplotlib\n",
    "import matplotlib.pyplot as plt\n",
    "\n",
    "# Отрисовка графиков внутри тетрадки\n",
    "%matplotlib inline\n",
    "\n",
    "# Создание переменных для интервала\n",
    "aa = np.random.randint(-10, 0)\n",
    "bb = np.random.randint(0, 10)\n",
    "\n",
    "# Создание интервала с шагом\n",
    "x = np.arange(aa, bb, 0.1)\n",
    "f = (3*(x**6)) - (5*(x**4)) + (2*x) - 1\n",
    "# Построение графика\n",
    "plt.plot(x, f)\n",
    "# Название осей\n",
    "plt.xlabel('x axis label')\n",
    "plt.ylabel('y axis label')\n",
    "# Название графика\n",
    "plt.title('График функции $f(x) = 3x^6 - 5x^4 + 2x - 1$')\n",
    "# Подпись графика\n",
    "plt.legend('f(x)')\n",
    "plt.show()"
   ]
  },
  {
   "cell_type": "markdown",
   "metadata": {},
   "source": [
    "#### Отобразите 2 функции на одном графике. Используйте TeX-нотацию для того, чтобы подписать график функции.\n",
    "1. f(x) = 3 * x^6 - 5 * x^4 + 2 * x - 1\n",
    "2. g(x) = - x^5 + 5 * x^3 - 2 * x^2 + 7"
   ]
  },
  {
   "cell_type": "code",
   "execution_count": 54,
   "metadata": {},
   "outputs": [
    {
     "data": {
      "image/png": "[encoded data removed]",
      "text/plain": [
       "<Figure size 432x288 with 1 Axes>"
      ]
     },
     "metadata": {
      "needs_background": "light"
     },
     "output_type": "display_data"
    }
   ],
   "source": [
    "# Создание переменных для интервала\n",
    "aa = np.random.randint(-10, 0)\n",
    "bb = np.random.randint(0, 10)\n",
    "\n",
    "# Создание интервала с шагом\n",
    "x = np.arange(aa, bb, 0.1)\n",
    "\n",
    "f = (3*(x**6)) - (5*(x**4)) + (2*x) - 1\n",
    "g = (-x)**5 + (5*(x**3)) - (2*(x**2)) + 7\n",
    "\n",
    "# Построение графика\n",
    "plt.plot(x, f)\n",
    "plt.plot(x, g)\n",
    "# Название осей\n",
    "plt.xlabel('x axis label')\n",
    "plt.ylabel('y axis label')\n",
    "# Название графика\n",
    "plt.title('$f(x) = 3x^6 - 5x^4 + 2x - 1$ and $g(x) = -x^5 + 5x^3 - 2x^2 + 7$')\n",
    "# Подпись графика\n",
    "plt.legend(['f(x)', 'g(x)'])\n",
    "plt.show()"
   ]
  },
  {
   "cell_type": "markdown",
   "metadata": {},
   "source": [
    "#### Найдите минимум обеих функций выше с помощью scipy"
   ]
  },
  {
   "cell_type": "code",
   "execution_count": null,
   "metadata": {},
   "outputs": [],
   "source": [
    "<your_code_here>"
   ]
  },
  {
   "cell_type": "code",
   "execution_count": null,
   "metadata": {},
   "outputs": [],
   "source": [
    "# Найдите минимум функции от двух переменных f(x, y) = 3 * x * y + 3 * x^2 - 4 * y + 7 - 5 * x^5\n",
    "<your_code_here>"
   ]
  },
  {
   "cell_type": "code",
   "execution_count": null,
   "metadata": {},
   "outputs": [],
   "source": [
    "# Возьмите dataset \"tips\" из seaborn и отобразите 60%-доверительный интервал для параметра \"tip\"\n",
    "# в зависимости от дня недели\n",
    "<your_code_here>"
   ]
  },
  {
   "cell_type": "markdown",
   "metadata": {
    "colab_type": "text",
    "id": "9S8tqIMG25pb"
   },
   "source": [
    "### Часть 3. Обучение kNN для Titanic (30%)"
   ]
  },
  {
   "cell_type": "code",
   "execution_count": null,
   "metadata": {
    "colab": {
     "autoexec": {
      "startup": false,
      "wait_interval": 0
     }
    },
    "colab_type": "code",
    "id": "VF2CeR7W25pt"
   },
   "outputs": [],
   "source": [
    "# Скачайте train и test выборку датасета Titanic (также доступно в материалах семинара)\n",
    "# и прочитайте с помощью pandas\n",
    "<your_code_here>"
   ]
  },
  {
   "cell_type": "code",
   "execution_count": null,
   "metadata": {},
   "outputs": [],
   "source": [
    "# Почистите / предобработайте данные в формате для sklearn (отдельно - X, отдельно - Y)\n",
    "<your_code_here>"
   ]
  },
  {
   "cell_type": "code",
   "execution_count": null,
   "metadata": {},
   "outputs": [],
   "source": [
    "# Обучите классификатор kNN на train и оцените качество с помощью cross_val_score\n",
    "<your_code_here>"
   ]
  },
  {
   "cell_type": "code",
   "execution_count": null,
   "metadata": {},
   "outputs": [],
   "source": [
    "# Добейтесь качества 0.7 по метрике accuracy локально, за счет добавления новых факторов\n",
    "<your_code_here>"
   ]
  },
  {
   "cell_type": "code",
   "execution_count": null,
   "metadata": {},
   "outputs": [],
   "source": [
    "# Приложите screenshot submit в Kaggle на публичном Leaderboard с качеством более чем 0.7\n",
    "<your_code_here>"
   ]
  }
 ],
 "metadata": {
  "colab": {
   "collapsed_sections": [
    "dKCiU0wz25pj",
    "9MKHZ2JC25pv",
    "VYogShkD25qD",
    "p41xvYTU25qK"
   ],
   "default_view": {},
   "name": "HW1_Logistic_regression_and_SVM.ipynb",
   "provenance": [],
   "version": "0.3.2",
   "views": {}
  },
  "kernelspec": {
   "display_name": "Python 3",
   "language": "python",
   "name": "python3"
  },
  "language_info": {
   "codemirror_mode": {
    "name": "ipython",
    "version": 3
   },
   "file_extension": ".py",
   "mimetype": "text/x-python",
   "name": "python",
   "nbconvert_exporter": "python",
   "pygments_lexer": "ipython3",
   "version": "3.6.8"
  }
 },
 "nbformat": 4,
 "nbformat_minor": 1
}
